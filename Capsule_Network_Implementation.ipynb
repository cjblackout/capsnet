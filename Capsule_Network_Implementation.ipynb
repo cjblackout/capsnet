{
 "cells": [
  {
   "cell_type": "markdown",
   "id": "e86ac943",
   "metadata": {},
   "source": [
    "# Capsule Network Implementation"
   ]
  },
  {
   "cell_type": "markdown",
   "id": "8c45adc5",
   "metadata": {},
   "source": [
    "Importing all dependencies"
   ]
  },
  {
   "cell_type": "code",
   "execution_count": 1,
   "id": "41c34206",
   "metadata": {},
   "outputs": [],
   "source": [
    "import numpy as np\n",
    "import tensorflow as tf\n",
    "\n",
    "from tqdm import tqdm\n",
    "from datetime import datetime"
   ]
  },
  {
   "cell_type": "markdown",
   "id": "2aabb8a1",
   "metadata": {},
   "source": [
    "Setting Parameters"
   ]
  },
  {
   "cell_type": "code",
   "execution_count": 2,
   "id": "03a45ab5",
   "metadata": {},
   "outputs": [],
   "source": [
    "params = {\n",
    "    \"conv_kernels\": 256,\n",
    "    \"primary_capsules\": 32,\n",
    "    \"secondary_capsules\": 10,\n",
    "    \"primary_cap_vector\": 8,\n",
    "    \"secondary_cap_vector\": 16,\n",
    "    \"r\":3,\n",
    "}\n",
    "\n",
    "epsilon = 1e-7\n",
    "lambda_ = 0.5\n",
    "alpha = 0.0005\n",
    "epochs = 50\n",
    "m_plus = 0.9\n",
    "m_minus = 0.1\n",
    "secondary_capsules = 10\n",
    "\n",
    "optimizer_adam = tf.keras.optimizers.Adam()"
   ]
  },
  {
   "cell_type": "markdown",
   "id": "6b6fa7ba",
   "metadata": {},
   "source": [
    "Retrieving MNIST dataset"
   ]
  },
  {
   "cell_type": "code",
   "execution_count": 5,
   "id": "f75e4d3f",
   "metadata": {},
   "outputs": [],
   "source": [
    "(train_x, train_y), (test_x , test_y)= tf.keras.datasets.mnist.load_data()"
   ]
  },
  {
   "cell_type": "markdown",
   "id": "30237272",
   "metadata": {},
   "source": [
    "Preprocessing data"
   ]
  },
  {
   "cell_type": "code",
   "execution_count": 6,
   "id": "5e674f8b",
   "metadata": {},
   "outputs": [],
   "source": [
    "train_x = train_x / 255.0\n",
    "test_x = test_x / 255.0\n",
    "\n",
    "train_x = tf.cast(train_x, dtype=tf.float32)\n",
    "test_x = tf.cast(test_x, dtype=tf.float32)\n",
    "\n",
    "train_x = tf.expand_dims(train_x, axis=-1)\n",
    "test_x = tf.expand_dims(test_x, axis=-1)\n",
    "\n",
    "test_size = test_x.shape[0]\n",
    "train_size = train_x.shape[0]\n",
    "\n",
    "train_dataset = tf.data.Dataset.from_tensor_slices((train_x, train_y))\n",
    "test_dataset = tf.data.Dataset.from_tensor_slices((test_x, test_y))\n",
    "\n",
    "train_dataset = train_dataset.shuffle(buffer_size=len(train_dataset), reshuffle_each_iteration=True)\n",
    "\n",
    "train_dataset = train_dataset.batch(batch_size=64)\n",
    "test_dataset = test_dataset.batch(batch_size=64)"
   ]
  },
  {
   "cell_type": "markdown",
   "id": "5b9c1b3f",
   "metadata": {},
   "source": [
    "Defining Capsule NEtwork class with all its functions"
   ]
  },
  {
   "cell_type": "code",
   "execution_count": 8,
   "id": "ab34ba3f",
   "metadata": {},
   "outputs": [],
   "source": [
    "class CapsuleNetwork(tf.keras.Model):\n",
    "    \n",
    "    #initialization\n",
    "    def __init__(self, conv_kernels, primary_capsules, primary_cap_vector, secondary_capsules, secondary_cap_vector, r):\n",
    "        \n",
    "        super(CapsuleNetwork, self).__init__()\n",
    "        self.conv_kernels = conv_kernels\n",
    "        self.primary_capsules = primary_capsules\n",
    "        self.primary_cap_vector = primary_cap_vector\n",
    "        self.secondary_capsules = secondary_capsules\n",
    "        self.secondary_cap_vector = secondary_cap_vector\n",
    "        self.r = r\n",
    "        \n",
    "        #Assigning the layers\n",
    "        with tf.name_scope(\"Variables\") as scope:\n",
    "            \n",
    "            self.convolution = tf.keras.layers.Conv2D(self.conv_kernels, [9,9], strides=[1,1], name='ConvolutionLayer', activation='relu')\n",
    "            self.primary_capsule = tf.keras.layers.Conv2D(self.primary_capsules * self.primary_cap_vector, [9,9], strides=[2,2], name=\"PrimaryCapsule\")\n",
    "            self.w = tf.Variable(tf.random_normal_initializer()(shape=[1, 1152, self.secondary_capsules, self.secondary_cap_vector, self.primary_cap_vector]), dtype=tf.float32, name=\"PoseEstimation\", trainable=True)\n",
    "            self.dense_1 = tf.keras.layers.Dense(units = 512, activation='relu')\n",
    "            self.dense_2 = tf.keras.layers.Dense(units = 1024, activation='relu')\n",
    "            self.dense_3 = tf.keras.layers.Dense(units = 784, activation='sigmoid', dtype='float32')\n",
    "        \n",
    "    def build(self, input_shape):\n",
    "        \n",
    "        pass\n",
    "    \n",
    "    #sqush function\n",
    "    def squash(self, s):\n",
    "        \n",
    "        with tf.name_scope(\"SquashFunction\") as scope:\n",
    "            \n",
    "            s_norm = tf.norm(s, axis=-1, keepdims=True)\n",
    "            return tf.square(s_norm)/(1 + tf.square(s_norm)) * s/(s_norm + epsilon)\n",
    "    \n",
    "    @tf.function\n",
    "    #input function for the NN\n",
    "    def call(self, inputs):\n",
    "        \n",
    "        input_x, input_y = inputs\n",
    "        x = self.convolution(input_x) \n",
    "        x = self.primary_capsule(x) \n",
    "        \n",
    "        #Defining Capsule\n",
    "        with tf.name_scope(\"CapsuleFormation\") as scope:\n",
    "\n",
    "            u = tf.reshape(x, (-1, self.primary_capsules * x.shape[1] * x.shape[2], 8)) \n",
    "            u = tf.expand_dims(u, axis=-2) \n",
    "            u = tf.expand_dims(u, axis=-1) \n",
    "            u_hat = tf.matmul(self.w, u) \n",
    "            u_hat = tf.squeeze(u_hat, [4]) \n",
    "\n",
    "            \n",
    "        #Routing mechanism\n",
    "        with tf.name_scope(\"DynamicRouting\") as scope:\n",
    "            \n",
    "            b = tf.zeros((input_x.shape[0], 1152, self.secondary_capsules, 1))\n",
    "            for _ in range(self.r):\n",
    "                c = tf.nn.softmax(b, axis=-2) \n",
    "                s = tf.reduce_sum(tf.multiply(c, u_hat), axis=1, keepdims=True) \n",
    "                v = self.squash(s) \n",
    "                agreement = tf.squeeze(tf.matmul(tf.expand_dims(u_hat, axis=-1), tf.expand_dims(v, axis=-1), transpose_a=True), [4]) \n",
    "                b += agreement\n",
    "        \n",
    "        \n",
    "        #Maksing\n",
    "        with tf.name_scope(\"Masking\") as scope:\n",
    "            \n",
    "            y = tf.expand_dims(input_y, axis=-1) \n",
    "            y = tf.expand_dims(y, axis=1) \n",
    "            mask = tf.cast(y, dtype=tf.float32) \n",
    "            v_masked = tf.multiply(mask, v) \n",
    "        \n",
    "        #Reconstructing the images\n",
    "        with tf.name_scope(\"Reconstruction\") as scope:\n",
    "            v_ = tf.reshape(v_masked, [-1, self.secondary_capsules * self.secondary_cap_vector]) \n",
    "            reconstructed_image = self.dense_1(v_) \n",
    "            reconstructed_image = self.dense_2(reconstructed_image) \n",
    "            reconstructed_image = self.dense_3(reconstructed_image) \n",
    "        \n",
    "        return v, reconstructed_image\n",
    "\n",
    "    @tf.function\n",
    "    #Prediction function \n",
    "    def predict_capsule_output(self, inputs):\n",
    "        \n",
    "        x = self.convolution(inputs) \n",
    "        x = self.primary_capsule(x) \n",
    "        \n",
    "        with tf.name_scope(\"CapsuleFormation\") as scope:\n",
    "            \n",
    "            u = tf.reshape(x, (-1, self.primary_capsules * x.shape[1] * x.shape[2], 8)) \n",
    "            u = tf.expand_dims(u, axis=-2) \n",
    "            u = tf.expand_dims(u, axis=-1) \n",
    "            u_hat = tf.matmul(self.w, u) \n",
    "            u_hat = tf.squeeze(u_hat, [4]) \n",
    "\n",
    "        \n",
    "        with tf.name_scope(\"DynamicRouting\") as scope:\n",
    "            \n",
    "            b = tf.zeros((inputs.shape[0], 1152, self.secondary_capsules, 1)) \n",
    "            for i in range(self.r): \n",
    "                c = tf.nn.softmax(b, axis=-2) \n",
    "                s = tf.reduce_sum(tf.multiply(c, u_hat), axis=1, keepdims=True) \n",
    "                v = self.squash(s) \n",
    "                agreement = tf.squeeze(tf.matmul(tf.expand_dims(u_hat, axis=-1), tf.expand_dims(v, axis=-1), transpose_a=True), [4]) \n",
    "                b += agreement\n",
    "                \n",
    "        return v\n",
    "\n",
    "    @tf.function\n",
    "    #Regenration function\n",
    "    def regenerate_image(self, inputs):\n",
    "        \n",
    "        with tf.name_scope(\"Reconstruction\") as scope:\n",
    "            \n",
    "            v_ = tf.reshape(inputs, [-1, self.secondary_capsules * self.secondary_cap_vector]) \n",
    "            reconstructed_image = self.dense_1(v_) \n",
    "            reconstructed_image = self.dense_2(reconstructed_image) \n",
    "            reconstructed_image = self.dense_3(reconstructed_image) \n",
    "            \n",
    "        return reconstructed_image"
   ]
  },
  {
   "cell_type": "markdown",
   "id": "93dfb6ca",
   "metadata": {},
   "source": [
    "Declaring normalization function and assigning class to model variable"
   ]
  },
  {
   "cell_type": "code",
   "execution_count": 10,
   "id": "f9f10c9d",
   "metadata": {},
   "outputs": [],
   "source": [
    "model = CapsuleNetwork(**params)"
   ]
  },
  {
   "cell_type": "code",
   "execution_count": 11,
   "id": "d57bb03e",
   "metadata": {},
   "outputs": [],
   "source": [
    "def safe_norm(v, axis=-1, epsilon=1e-7):\n",
    "    v_ = tf.reduce_sum(tf.square(v), axis = axis, keepdims=True)\n",
    "    return tf.sqrt(v_ + epsilon)"
   ]
  },
  {
   "cell_type": "markdown",
   "id": "38eebdbe",
   "metadata": {},
   "source": [
    "Defining loss function"
   ]
  },
  {
   "cell_type": "code",
   "execution_count": 12,
   "id": "9dcbb256",
   "metadata": {},
   "outputs": [],
   "source": [
    "def loss_function(v, reconstructed_image, y, y_image):\n",
    "    \n",
    "    prediction = safe_norm(v)\n",
    "    prediction = tf.reshape(prediction, [-1, secondary_capsules])\n",
    "    \n",
    "    left_margin = tf.square(tf.maximum(0.0, m_plus - prediction))\n",
    "    right_margin = tf.square(tf.maximum(0.0, prediction - m_minus))\n",
    "    \n",
    "    l = tf.add(y * left_margin, lambda_ * (1.0 - y) * right_margin)\n",
    "    \n",
    "    margin_loss = tf.reduce_mean(tf.reduce_sum(l, axis=-1))\n",
    "    \n",
    "    y_image_flat = tf.reshape(y_image, [-1, 784])\n",
    "    reconstruction_loss = tf.reduce_mean(tf.square(y_image_flat - reconstructed_image))\n",
    "    \n",
    "    loss = tf.add(margin_loss, alpha * reconstruction_loss)\n",
    "    \n",
    "    return loss"
   ]
  },
  {
   "cell_type": "markdown",
   "id": "feb421aa",
   "metadata": {},
   "source": [
    "Defining traning function"
   ]
  },
  {
   "cell_type": "code",
   "execution_count": 13,
   "id": "9c69087b",
   "metadata": {},
   "outputs": [],
   "source": [
    "def train(x,y):\n",
    "    \n",
    "    y_one_hot = tf.one_hot(y, depth=10)\n",
    "    with tf.GradientTape() as tape:\n",
    "        \n",
    "        v, reconstructed_image = model([x, y_one_hot])\n",
    "        loss = loss_function(v, reconstructed_image, y_one_hot, x)\n",
    "        \n",
    "    grad = tape.gradient(loss, model.trainable_variables)\n",
    "    optimizer_adam.apply_gradients(zip(grad, model.trainable_variables))\n",
    "    \n",
    "    return loss\n",
    "\n",
    "_ = train(train_x[:32],train_y[:32])"
   ]
  },
  {
   "cell_type": "markdown",
   "id": "56a8e1a3",
   "metadata": {},
   "source": [
    "Prediction function declaration and creating a checkpoint"
   ]
  },
  {
   "cell_type": "code",
   "execution_count": 17,
   "id": "9328be2a",
   "metadata": {},
   "outputs": [],
   "source": [
    "def predict(model, x):\n",
    "    pred = safe_norm(model.predict_capsule_output(x))\n",
    "    pred = tf.squeeze(pred, [1])\n",
    "    return np.argmax(pred, axis=1)[:,0]\n",
    "checkpoint = tf.train.Checkpoint(model=model)"
   ]
  },
  {
   "cell_type": "markdown",
   "id": "6a0e6311",
   "metadata": {},
   "source": [
    "Running the training function"
   ]
  },
  {
   "cell_type": "code",
   "execution_count": 25,
   "id": "d9f3d685",
   "metadata": {
    "scrolled": true
   },
   "outputs": [
    {
     "name": "stderr",
     "output_type": "stream",
     "text": [
      "Epoch 1 of 50: 100%|████████████████████████████| 938/938 [11:06<00:00,  1.41it/s, Loss :0.009686555 Accuracy :0.99545]\n",
      "Epoch 2 of 50: 100%|█████████████████████████████| 938/938 [10:59<00:00,  1.42it/s, Loss :0.008605333 Accuracy :0.9957]\n",
      "Epoch 3 of 50: 100%|████████████████████████████| 938/938 [11:00<00:00,  1.42it/s, Loss :0.007136787 Accuracy :0.99675]\n",
      "Epoch 4 of 50: 100%|█████████████████| 938/938 [11:06<00:00,  1.41it/s, Loss :0.006049963 Accuracy :0.9964333333333333]\n",
      "Epoch 5 of 50: 100%|████████████████| 938/938 [11:01<00:00,  1.42it/s, Loss :0.0063166087 Accuracy :0.9980833333333333]\n",
      "Epoch 6 of 50: 100%|█████████████████| 938/938 [11:04<00:00,  1.41it/s, Loss :0.005580333 Accuracy :0.9976333333333334]\n",
      "Epoch 7 of 50: 100%|█████████████████| 938/938 [11:18<00:00,  1.38it/s, Loss :0.004959931 Accuracy :0.9980666666666667]\n",
      "Epoch 8 of 50: 100%|█████████████████| 938/938 [11:37<00:00,  1.35it/s, Loss :0.004313789 Accuracy :0.9983666666666666]\n",
      "Epoch 9 of 50:  42%|███████████████████████████▏                                     | 393/938 [03:30<04:51,  1.87it/s]\n"
     ]
    },
    {
     "ename": "KeyboardInterrupt",
     "evalue": "",
     "output_type": "error",
     "traceback": [
      "\u001b[1;31m---------------------------------------------------------------------------\u001b[0m",
      "\u001b[1;31mKeyboardInterrupt\u001b[0m                         Traceback (most recent call last)",
      "\u001b[1;32m<ipython-input-25-b89b878fdd6b>\u001b[0m in \u001b[0;36m<module>\u001b[1;34m\u001b[0m\n\u001b[0;32m     12\u001b[0m         \u001b[1;32mfor\u001b[0m \u001b[0mX_batch\u001b[0m\u001b[1;33m,\u001b[0m \u001b[0my_batch\u001b[0m \u001b[1;32min\u001b[0m \u001b[0mtrain_dataset\u001b[0m\u001b[1;33m:\u001b[0m\u001b[1;33m\u001b[0m\u001b[1;33m\u001b[0m\u001b[0m\n\u001b[0;32m     13\u001b[0m \u001b[1;33m\u001b[0m\u001b[0m\n\u001b[1;32m---> 14\u001b[1;33m             \u001b[0mloss\u001b[0m \u001b[1;33m+=\u001b[0m \u001b[0mtrain\u001b[0m\u001b[1;33m(\u001b[0m\u001b[0mX_batch\u001b[0m\u001b[1;33m,\u001b[0m\u001b[0my_batch\u001b[0m\u001b[1;33m)\u001b[0m\u001b[1;33m\u001b[0m\u001b[1;33m\u001b[0m\u001b[0m\n\u001b[0m\u001b[0;32m     15\u001b[0m             \u001b[0mprogress_bar\u001b[0m\u001b[1;33m.\u001b[0m\u001b[0mupdate\u001b[0m\u001b[1;33m(\u001b[0m\u001b[1;36m1\u001b[0m\u001b[1;33m)\u001b[0m\u001b[1;33m\u001b[0m\u001b[1;33m\u001b[0m\u001b[0m\n\u001b[0;32m     16\u001b[0m \u001b[1;33m\u001b[0m\u001b[0m\n",
      "\u001b[1;32m<ipython-input-13-3ae5b6f1f300>\u001b[0m in \u001b[0;36mtrain\u001b[1;34m(x, y)\u001b[0m\n\u001b[0;32m      7\u001b[0m         \u001b[0mloss\u001b[0m \u001b[1;33m=\u001b[0m \u001b[0mloss_function\u001b[0m\u001b[1;33m(\u001b[0m\u001b[0mv\u001b[0m\u001b[1;33m,\u001b[0m \u001b[0mreconstructed_image\u001b[0m\u001b[1;33m,\u001b[0m \u001b[0my_one_hot\u001b[0m\u001b[1;33m,\u001b[0m \u001b[0mx\u001b[0m\u001b[1;33m)\u001b[0m\u001b[1;33m\u001b[0m\u001b[1;33m\u001b[0m\u001b[0m\n\u001b[0;32m      8\u001b[0m \u001b[1;33m\u001b[0m\u001b[0m\n\u001b[1;32m----> 9\u001b[1;33m     \u001b[0mgrad\u001b[0m \u001b[1;33m=\u001b[0m \u001b[0mtape\u001b[0m\u001b[1;33m.\u001b[0m\u001b[0mgradient\u001b[0m\u001b[1;33m(\u001b[0m\u001b[0mloss\u001b[0m\u001b[1;33m,\u001b[0m \u001b[0mmodel\u001b[0m\u001b[1;33m.\u001b[0m\u001b[0mtrainable_variables\u001b[0m\u001b[1;33m)\u001b[0m\u001b[1;33m\u001b[0m\u001b[1;33m\u001b[0m\u001b[0m\n\u001b[0m\u001b[0;32m     10\u001b[0m     \u001b[0moptimizer_adam\u001b[0m\u001b[1;33m.\u001b[0m\u001b[0mapply_gradients\u001b[0m\u001b[1;33m(\u001b[0m\u001b[0mzip\u001b[0m\u001b[1;33m(\u001b[0m\u001b[0mgrad\u001b[0m\u001b[1;33m,\u001b[0m \u001b[0mmodel\u001b[0m\u001b[1;33m.\u001b[0m\u001b[0mtrainable_variables\u001b[0m\u001b[1;33m)\u001b[0m\u001b[1;33m)\u001b[0m\u001b[1;33m\u001b[0m\u001b[1;33m\u001b[0m\u001b[0m\n\u001b[0;32m     11\u001b[0m \u001b[1;33m\u001b[0m\u001b[0m\n",
      "\u001b[1;32mc:\\users\\cjblackout\\appdata\\local\\programs\\python\\python37\\lib\\site-packages\\tensorflow\\python\\eager\\backprop.py\u001b[0m in \u001b[0;36mgradient\u001b[1;34m(self, target, sources, output_gradients, unconnected_gradients)\u001b[0m\n\u001b[0;32m   1078\u001b[0m         \u001b[0moutput_gradients\u001b[0m\u001b[1;33m=\u001b[0m\u001b[0moutput_gradients\u001b[0m\u001b[1;33m,\u001b[0m\u001b[1;33m\u001b[0m\u001b[1;33m\u001b[0m\u001b[0m\n\u001b[0;32m   1079\u001b[0m         \u001b[0msources_raw\u001b[0m\u001b[1;33m=\u001b[0m\u001b[0mflat_sources_raw\u001b[0m\u001b[1;33m,\u001b[0m\u001b[1;33m\u001b[0m\u001b[1;33m\u001b[0m\u001b[0m\n\u001b[1;32m-> 1080\u001b[1;33m         unconnected_gradients=unconnected_gradients)\n\u001b[0m\u001b[0;32m   1081\u001b[0m \u001b[1;33m\u001b[0m\u001b[0m\n\u001b[0;32m   1082\u001b[0m     \u001b[1;32mif\u001b[0m \u001b[1;32mnot\u001b[0m \u001b[0mself\u001b[0m\u001b[1;33m.\u001b[0m\u001b[0m_persistent\u001b[0m\u001b[1;33m:\u001b[0m\u001b[1;33m\u001b[0m\u001b[1;33m\u001b[0m\u001b[0m\n",
      "\u001b[1;32mc:\\users\\cjblackout\\appdata\\local\\programs\\python\\python37\\lib\\site-packages\\tensorflow\\python\\eager\\imperative_grad.py\u001b[0m in \u001b[0;36mimperative_grad\u001b[1;34m(tape, target, sources, output_gradients, sources_raw, unconnected_gradients)\u001b[0m\n\u001b[0;32m     75\u001b[0m       \u001b[0moutput_gradients\u001b[0m\u001b[1;33m,\u001b[0m\u001b[1;33m\u001b[0m\u001b[1;33m\u001b[0m\u001b[0m\n\u001b[0;32m     76\u001b[0m       \u001b[0msources_raw\u001b[0m\u001b[1;33m,\u001b[0m\u001b[1;33m\u001b[0m\u001b[1;33m\u001b[0m\u001b[0m\n\u001b[1;32m---> 77\u001b[1;33m       compat.as_str(unconnected_gradients.value))\n\u001b[0m",
      "\u001b[1;32mc:\\users\\cjblackout\\appdata\\local\\programs\\python\\python37\\lib\\site-packages\\tensorflow\\python\\eager\\function.py\u001b[0m in \u001b[0;36m_backward_function_wrapper\u001b[1;34m(*args)\u001b[0m\n\u001b[0;32m   1301\u001b[0m           \u001b[1;32mbreak\u001b[0m\u001b[1;33m\u001b[0m\u001b[1;33m\u001b[0m\u001b[0m\n\u001b[0;32m   1302\u001b[0m       return backward._call_flat(  # pylint: disable=protected-access\n\u001b[1;32m-> 1303\u001b[1;33m           processed_args, remapped_captures)\n\u001b[0m\u001b[0;32m   1304\u001b[0m \u001b[1;33m\u001b[0m\u001b[0m\n\u001b[0;32m   1305\u001b[0m     \u001b[1;32mreturn\u001b[0m \u001b[0m_backward_function_wrapper\u001b[0m\u001b[1;33m,\u001b[0m \u001b[0mrecorded_outputs\u001b[0m\u001b[1;33m\u001b[0m\u001b[1;33m\u001b[0m\u001b[0m\n",
      "\u001b[1;32mc:\\users\\cjblackout\\appdata\\local\\programs\\python\\python37\\lib\\site-packages\\tensorflow\\python\\eager\\function.py\u001b[0m in \u001b[0;36m_call_flat\u001b[1;34m(self, args, captured_inputs, cancellation_manager)\u001b[0m\n\u001b[0;32m   1959\u001b[0m       \u001b[1;31m# No tape is watching; skip to running the function.\u001b[0m\u001b[1;33m\u001b[0m\u001b[1;33m\u001b[0m\u001b[1;33m\u001b[0m\u001b[0m\n\u001b[0;32m   1960\u001b[0m       return self._build_call_outputs(self._inference_function.call(\n\u001b[1;32m-> 1961\u001b[1;33m           ctx, args, cancellation_manager=cancellation_manager))\n\u001b[0m\u001b[0;32m   1962\u001b[0m     forward_backward = self._select_forward_and_backward_functions(\n\u001b[0;32m   1963\u001b[0m         \u001b[0margs\u001b[0m\u001b[1;33m,\u001b[0m\u001b[1;33m\u001b[0m\u001b[1;33m\u001b[0m\u001b[0m\n",
      "\u001b[1;32mc:\\users\\cjblackout\\appdata\\local\\programs\\python\\python37\\lib\\site-packages\\tensorflow\\python\\eager\\function.py\u001b[0m in \u001b[0;36mcall\u001b[1;34m(self, ctx, args, cancellation_manager)\u001b[0m\n\u001b[0;32m    594\u001b[0m               \u001b[0minputs\u001b[0m\u001b[1;33m=\u001b[0m\u001b[0margs\u001b[0m\u001b[1;33m,\u001b[0m\u001b[1;33m\u001b[0m\u001b[1;33m\u001b[0m\u001b[0m\n\u001b[0;32m    595\u001b[0m               \u001b[0mattrs\u001b[0m\u001b[1;33m=\u001b[0m\u001b[0mattrs\u001b[0m\u001b[1;33m,\u001b[0m\u001b[1;33m\u001b[0m\u001b[1;33m\u001b[0m\u001b[0m\n\u001b[1;32m--> 596\u001b[1;33m               ctx=ctx)\n\u001b[0m\u001b[0;32m    597\u001b[0m         \u001b[1;32melse\u001b[0m\u001b[1;33m:\u001b[0m\u001b[1;33m\u001b[0m\u001b[1;33m\u001b[0m\u001b[0m\n\u001b[0;32m    598\u001b[0m           outputs = execute.execute_with_cancellation(\n",
      "\u001b[1;32mc:\\users\\cjblackout\\appdata\\local\\programs\\python\\python37\\lib\\site-packages\\tensorflow\\python\\eager\\execute.py\u001b[0m in \u001b[0;36mquick_execute\u001b[1;34m(op_name, num_outputs, inputs, attrs, ctx, name)\u001b[0m\n\u001b[0;32m     58\u001b[0m     \u001b[0mctx\u001b[0m\u001b[1;33m.\u001b[0m\u001b[0mensure_initialized\u001b[0m\u001b[1;33m(\u001b[0m\u001b[1;33m)\u001b[0m\u001b[1;33m\u001b[0m\u001b[1;33m\u001b[0m\u001b[0m\n\u001b[0;32m     59\u001b[0m     tensors = pywrap_tfe.TFE_Py_Execute(ctx._handle, device_name, op_name,\n\u001b[1;32m---> 60\u001b[1;33m                                         inputs, attrs, num_outputs)\n\u001b[0m\u001b[0;32m     61\u001b[0m   \u001b[1;32mexcept\u001b[0m \u001b[0mcore\u001b[0m\u001b[1;33m.\u001b[0m\u001b[0m_NotOkStatusException\u001b[0m \u001b[1;32mas\u001b[0m \u001b[0me\u001b[0m\u001b[1;33m:\u001b[0m\u001b[1;33m\u001b[0m\u001b[1;33m\u001b[0m\u001b[0m\n\u001b[0;32m     62\u001b[0m     \u001b[1;32mif\u001b[0m \u001b[0mname\u001b[0m \u001b[1;32mis\u001b[0m \u001b[1;32mnot\u001b[0m \u001b[1;32mNone\u001b[0m\u001b[1;33m:\u001b[0m\u001b[1;33m\u001b[0m\u001b[1;33m\u001b[0m\u001b[0m\n",
      "\u001b[1;31mKeyboardInterrupt\u001b[0m: "
     ]
    }
   ],
   "source": [
    "losses = []\n",
    "accuracy = []\n",
    "\n",
    "for i in range(1, epochs+1, 1):\n",
    "\n",
    "    loss = 0\n",
    "    with tqdm(total=len(train_dataset)) as progress_bar:\n",
    "        \n",
    "        description = \"Epoch \" + str(i) + \" of \" + str(epochs)\n",
    "        progress_bar.set_description_str(description)\n",
    "\n",
    "        for X_batch, y_batch in train_dataset:\n",
    "\n",
    "            loss += train(X_batch,y_batch)\n",
    "            progress_bar.update(1)\n",
    "\n",
    "        loss /= len(train_dataset)\n",
    "        losses.append(loss.numpy())\n",
    "        \n",
    "        training_sum = 0\n",
    "\n",
    "        #statement = \"Loss :\" + str(loss.numpy()) + \" Evaluating Accuracy ...\"\n",
    "        progress_bar.set_postfix_str(\"Loss :\" + str(loss.numpy()) + \" Evaluating Accuracy ...\")\n",
    "\n",
    "        for X_batch, y_batch in train_dataset:\n",
    "            training_sum += sum(predict(model, X_batch)==y_batch.numpy())\n",
    "        accuracy.append(training_sum/train_size)\n",
    "\n",
    "        #with file_writer.as_default():\n",
    "            #tf.summary.scalar('Loss', data=loss.numpy(), step=i)\n",
    "            #tf.summary.scalar('Accuracy', data=accuracy[-1], step=i)\n",
    "        \n",
    "        #print_statement = \"Loss :\" + str(loss.numpy()) + \" Accuracy :\" + str(accuracy[-1])\n",
    "\n",
    "        if i % 10 == 0:\n",
    "            #print_statement += ' Checkpoint Saved'\n",
    "            checkpoint.save(checkpoint_path)\n",
    "        \n",
    "        progress_bar.set_postfix_str(\"Loss :\" + str(loss.numpy()) + \" Accuracy :\" + str(accuracy[-1]))"
   ]
  },
  {
   "cell_type": "markdown",
   "id": "d7f9e88f",
   "metadata": {},
   "source": [
    "Showing accuracy of model"
   ]
  },
  {
   "cell_type": "code",
   "execution_count": 27,
   "id": "8261764c",
   "metadata": {},
   "outputs": [
    {
     "name": "stdout",
     "output_type": "stream",
     "text": [
      "0.9856\n"
     ]
    }
   ],
   "source": [
    "test_sum = 0\n",
    "for X_batch, y_batch in test_dataset:\n",
    "    test_sum += sum(predict(model, X_batch)==y_batch.numpy())\n",
    "print(test_sum/test_size)"
   ]
  }
 ],
 "metadata": {
  "kernelspec": {
   "display_name": "Python 3",
   "language": "python",
   "name": "python3"
  },
  "language_info": {
   "codemirror_mode": {
    "name": "ipython",
    "version": 3
   },
   "file_extension": ".py",
   "mimetype": "text/x-python",
   "name": "python",
   "nbconvert_exporter": "python",
   "pygments_lexer": "ipython3",
   "version": "3.7.9"
  }
 },
 "nbformat": 4,
 "nbformat_minor": 5
}
